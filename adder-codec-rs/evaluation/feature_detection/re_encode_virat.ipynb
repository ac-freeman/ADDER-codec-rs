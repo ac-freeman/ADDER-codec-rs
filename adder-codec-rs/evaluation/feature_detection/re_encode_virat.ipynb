{
 "cells": [
  {
   "cell_type": "code",
   "execution_count": null,
   "id": "initial_id",
   "metadata": {
    "ExecuteTime": {
     "end_time": "2023-10-31T20:11:06.615525959Z",
     "start_time": "2023-10-31T20:11:06.561476157Z"
    }
   },
   "outputs": [],
   "source": [
    "import os\n",
    "import random\n",
    "\n",
    "input_directory_path = '/media/andrew/ExternalM2/VIRAT/videos_original'\n",
    "output_directory_path = '/home/andrew/Videos/VIRAT_gray_0.5'\n",
    "\n",
    "# List all files in the directory\n",
    "file_list = os.listdir(input_directory_path)\n",
    "\n",
    "# Randomly select some unique file paths\n",
    "random_file_paths = random.sample(file_list, 150)\n",
    "\n",
    "# Create the full file paths\n",
    "full_file_paths = [os.path.join(input_directory_path, filename) for filename in random_file_paths]\n",
    "\n",
    "full_destination_paths = [os.path.join(output_directory_path, filename) for filename in random_file_paths]\n",
    "\n",
    "print(full_file_paths)"
   ]
  },
  {
   "cell_type": "code",
   "execution_count": null,
   "id": "c8d3616ef5aff427",
   "metadata": {
    "ExecuteTime": {
     "end_time": "2023-10-31T20:48:09.391545214Z",
     "start_time": "2023-10-31T20:11:06.606275506Z"
    }
   },
   "outputs": [],
   "source": [
    "for i in range(len(full_file_paths)):\n",
    "    input = full_file_paths[i]\n",
    "    output = full_destination_paths[i]\n",
    "    ! ffmpeg -i {input} -vf \"select=lt(n\\,2000),scale=iw*0.5:ih*0.5,format=gray\" -c:v libx265 -crf 23 -g 30 -frames:v 2000 {output}\n"
   ]
  }
 ],
 "metadata": {
  "kernelspec": {
   "display_name": "Python 3",
   "language": "python",
   "name": "python3"
  },
  "language_info": {
   "codemirror_mode": {
    "name": "ipython",
    "version": 2
   },
   "file_extension": ".py",
   "mimetype": "text/x-python",
   "name": "python",
   "nbconvert_exporter": "python",
   "pygments_lexer": "ipython2",
   "version": "2.7.6"
  }
 },
 "nbformat": 4,
 "nbformat_minor": 5
}
