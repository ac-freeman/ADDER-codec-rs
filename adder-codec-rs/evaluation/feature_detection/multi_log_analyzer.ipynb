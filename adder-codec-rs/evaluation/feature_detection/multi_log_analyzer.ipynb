{
 "cells": [
  {
   "cell_type": "code",
   "execution_count": 1,
   "id": "initial_id",
   "metadata": {
    "collapsed": true,
    "ExecuteTime": {
     "end_time": "2023-10-20T01:44:54.258302099Z",
     "start_time": "2023-10-20T01:44:54.257899617Z"
    }
   },
   "outputs": [],
   "source": [
    "# for i in range(4):\n",
    "#     %run log_analyzer.ipynb"
   ]
  },
  {
   "cell_type": "code",
   "execution_count": null,
   "outputs": [
    {
     "name": "stdout",
     "output_type": "stream",
     "text": [
      "env: RUSTFLAGS=-Awarnings\n",
      "Running CRF 0\n",
      "\u001B[1m\u001B[32m   Compiling\u001B[0m opencv v0.83.0\r\n",
      "\u001B[1m\u001B[32m   Compiling\u001B[0m zstd v0.12.4\r\n",
      "\u001B[K\u001B[1m\u001B[32m   Compiling\u001B[0m aedat v1.3.3=========> ] 332/340: zstd, opencv(build)         \r\n",
      "\u001B[1m\u001B[36m    Building\u001B[0m [=======================> ] 334/340: opencv(build)               \r"
     ]
    }
   ],
   "source": [
    "# Suppress cargo build warnings\n",
    "%env RUSTFLAGS=-Awarnings\n",
    "for i in range(10):\n",
    "    print(\"Running CRF\", i)\n",
    "    ! cargo run --bin evaluate_feature_detection_transcode --release --features \"open-cv feature-logging\" -- \\\n",
    "            --crf {i} --delta-t-max 76500 --frame-count-max 500 \\\n",
    "            --input-filename \"/media/andrew/ExternalM2/VIRAT/videos_original/VIRAT_S_040103_07_001011_001093.mp4\" \\\n",
    "            --scale 1.0 --detect-features \\\n",
    "            --color-input\n"
   ],
   "metadata": {
    "collapsed": false,
    "is_executing": true,
    "ExecuteTime": {
     "start_time": "2023-10-20T01:44:54.258102228Z"
    }
   },
   "id": "37c62b1b596dc13a"
  }
 ],
 "metadata": {
  "kernelspec": {
   "display_name": "Python 3",
   "language": "python",
   "name": "python3"
  },
  "language_info": {
   "codemirror_mode": {
    "name": "ipython",
    "version": 2
   },
   "file_extension": ".py",
   "mimetype": "text/x-python",
   "name": "python",
   "nbconvert_exporter": "python",
   "pygments_lexer": "ipython2",
   "version": "2.7.6"
  }
 },
 "nbformat": 4,
 "nbformat_minor": 5
}
