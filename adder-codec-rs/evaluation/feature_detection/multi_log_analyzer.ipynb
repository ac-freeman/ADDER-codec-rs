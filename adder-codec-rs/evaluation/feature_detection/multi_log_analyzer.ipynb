{
 "cells": [
  {
   "cell_type": "code",
   "execution_count": 1,
   "id": "initial_id",
   "metadata": {
    "collapsed": true,
    "ExecuteTime": {
     "end_time": "2023-10-20T02:17:53.638063548Z",
     "start_time": "2023-10-20T02:17:53.595998655Z"
    }
   },
   "outputs": [],
   "source": [
    "# for i in range(4):\n",
    "#     %run log_analyzer.ipynb"
   ]
  },
  {
   "cell_type": "code",
   "execution_count": 2,
   "outputs": [
    {
     "name": "stdout",
     "output_type": "stream",
     "text": [
      "['/media/andrew/ExternalM2/VIRAT/videos_original/VIRAT_S_010203_06_000620_000760.mp4', '/media/andrew/ExternalM2/VIRAT/videos_original/VIRAT_S_040001_02_001102_001530.mp4', '/media/andrew/ExternalM2/VIRAT/videos_original/VIRAT_S_000200_02_000479_000635.mp4', '/media/andrew/ExternalM2/VIRAT/videos_original/VIRAT_S_010111_08_000920_000954.mp4', '/media/andrew/ExternalM2/VIRAT/videos_original/VIRAT_S_010200_06_000702_000744.mp4', '/media/andrew/ExternalM2/VIRAT/videos_original/VIRAT_S_010200_05_000658_000700.mp4', '/media/andrew/ExternalM2/VIRAT/videos_original/VIRAT_S_010004_06_000547_000715.mp4', '/media/andrew/ExternalM2/VIRAT/videos_original/VIRAT_S_010202_03_000313_000355.mp4', '/media/andrew/ExternalM2/VIRAT/videos_original/VIRAT_S_050000_08_001235_001295.mp4', '/media/andrew/ExternalM2/VIRAT/videos_original/VIRAT_S_010206_00_000007_000035.mp4', '/media/andrew/ExternalM2/VIRAT/videos_original/VIRAT_S_050000_07_001014_001126.mp4', '/media/andrew/ExternalM2/VIRAT/videos_original/VIRAT_S_050201_00_000012_000116.mp4', '/media/andrew/ExternalM2/VIRAT/videos_original/VIRAT_S_050300_09_001789_001858.mp4', '/media/andrew/ExternalM2/VIRAT/videos_original/VIRAT_S_010204_09_001285_001336.mp4', '/media/andrew/ExternalM2/VIRAT/videos_original/VIRAT_S_040000_00_000063_000085.mp4', '/media/andrew/ExternalM2/VIRAT/videos_original/VIRAT_S_040000_04_000532_000622.mp4']\n"
     ]
    }
   ],
   "source": [
    "import os\n",
    "import random\n",
    "\n",
    "# Get the files randomly\n",
    "# Specify the directory path\n",
    "directory_path = '/media/andrew/ExternalM2/VIRAT/videos_original'\n",
    "\n",
    "# List all files in the directory\n",
    "file_list = os.listdir(directory_path)\n",
    "\n",
    "# Randomly select 15 unique file paths\n",
    "random_file_paths = random.sample(file_list, 16)\n",
    "\n",
    "# Create the full file paths\n",
    "full_file_paths = [os.path.join(directory_path, filename) for filename in random_file_paths]\n",
    "\n",
    "print(full_file_paths)"
   ],
   "metadata": {
    "collapsed": false,
    "ExecuteTime": {
     "end_time": "2023-10-20T02:17:53.638416910Z",
     "start_time": "2023-10-20T02:17:53.637905378Z"
    }
   },
   "id": "ab0c65333d382055"
  },
  {
   "cell_type": "code",
   "execution_count": null,
   "outputs": [
    {
     "name": "stdout",
     "output_type": "stream",
     "text": [
      "env: RUSTFLAGS=-Awarnings\n",
      "Running CRF 0\n",
      "\u001B[1m\u001B[32m    Finished\u001B[0m release [optimized] target(s) in 0.15s\r\n",
      "\u001B[1m\u001B[32m     Running\u001B[0m `/home/andrew/Code/adder-codec-rs/target/release/evaluate_feature_detection_transcode --crf 0 --delta-t-max 76500 --frame-count-max 500 --input-filename /media/andrew/ExternalM2/VIRAT/videos_original/VIRAT_S_010203_06_000620_000760.mp4 --scale 0.5 --detect-features`\r\n",
      "\u001B[2K█░░░░░░░░░░░░░░░░░░░░░░░░░░░░░░░░░░░░░░░░░░░░░░░░░░░░░░░░░░░░░░░░░░░░░░░░ 10/500"
     ]
    }
   ],
   "source": [
    "# Suppress cargo build warnings\n",
    "%env RUSTFLAGS=-Awarnings\n",
    "for file_path in full_file_paths:\n",
    "    for i in range(10):\n",
    "        print(\"Running CRF\", i)\n",
    "        ! cargo run --bin evaluate_feature_detection_transcode --release --features \"open-cv feature-logging\" -- \\\n",
    "                --crf {i} --delta-t-max 76500 --frame-count-max 500 \\\n",
    "                --input-filename {file_path} \\\n",
    "                --scale 0.5 --detect-features\n",
    "    # --color-input\n"
   ],
   "metadata": {
    "collapsed": false,
    "is_executing": true,
    "ExecuteTime": {
     "start_time": "2023-10-20T02:17:53.638200779Z"
    }
   },
   "id": "37c62b1b596dc13a"
  }
 ],
 "metadata": {
  "kernelspec": {
   "display_name": "Python 3",
   "language": "python",
   "name": "python3"
  },
  "language_info": {
   "codemirror_mode": {
    "name": "ipython",
    "version": 2
   },
   "file_extension": ".py",
   "mimetype": "text/x-python",
   "name": "python",
   "nbconvert_exporter": "python",
   "pygments_lexer": "ipython2",
   "version": "2.7.6"
  }
 },
 "nbformat": 4,
 "nbformat_minor": 5
}
