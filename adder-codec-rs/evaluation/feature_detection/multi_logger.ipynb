{
 "cells": [
  {
   "cell_type": "code",
   "execution_count": null,
   "id": "initial_id",
   "metadata": {
    "ExecuteTime": {
     "end_time": "2023-11-01T01:43:50.910472775Z",
     "start_time": "2023-11-01T01:43:50.868643749Z"
    }
   },
   "outputs": [],
   "source": [
    "# for i in range(4):\n",
    "#     %run log_analyzer.ipynb"
   ]
  },
  {
   "cell_type": "code",
   "execution_count": null,
   "id": "ab0c65333d382055",
   "metadata": {
    "ExecuteTime": {
     "end_time": "2023-11-01T01:43:50.910686141Z",
     "start_time": "2023-11-01T01:43:50.910253263Z"
    }
   },
   "outputs": [],
   "source": [
    "import os\n",
    "input_directory_path = '/home/andrew/Videos/VIRAT_gray_0.5'\n",
    "\n",
    "# List all files in the directory\n",
    "file_list = os.listdir(input_directory_path)\n",
    "full_file_paths = [os.path.join(input_directory_path, filename) for filename in file_list]"
   ]
  },
  {
   "cell_type": "code",
   "execution_count": null,
   "id": "37c62b1b596dc13a",
   "metadata": {
    "ExecuteTime": {
     "start_time": "2023-11-01T01:43:50.910410825Z"
    },
    "is_executing": true
   },
   "outputs": [],
   "source": [
    "# Suppress cargo build warnings\n",
    "%env RUSTFLAGS=-Awarnings\n",
    "for file_path in full_file_paths:\n",
    "    i = 0\n",
    "    print(\"Running CRF\", i)\n",
    "    ! cargo run --bin evaluate_feature_detection_transcode --release --features \"open-cv feature-logging compression\" -- \\\n",
    "            --crf {i} --delta-t-max 7650 --frame-count-max 480 \\\n",
    "            --input-filename {file_path} \\\n",
    "            --scale 1.0 --compressed --thread-count 16 --output-filename \"out.adder\"\n",
    "    \n",
    "    ! cargo run --bin evaluate_feature_detection_transcode --release --features \"open-cv feature-logging compression\" -- \\\n",
    "            --crf {i} --delta-t-max 7650 --frame-count-max 480 \\\n",
    "            --input-filename {file_path} \\\n",
    "            --scale 1.0 --detect-features --compressed --thread-count 16 --output-filename \"out.adder\"\n",
    "    \n",
    "    for i in [3,6,9]:\n",
    "        print(\"Running CRF\", i)\n",
    "        # ! cargo run --bin evaluate_feature_detection_transcode --release --features \"open-cv feature-logging\" -- \\\n",
    "        #         --crf {i} --delta-t-max 7650 --frame-count-max 1000 \\\n",
    "        #         --input-filename {file_path} \\\n",
    "        #         --scale 1.0 --thread-count 1 --output-filename \"out.adder\"\n",
    "        ! cargo run --bin evaluate_feature_detection_transcode --release --features \"open-cv feature-logging compression\" -- \\\n",
    "                --crf {i} --delta-t-max 7650 --frame-count-max 480 \\\n",
    "                --input-filename {file_path} \\\n",
    "                --scale 1.0 --compressed --thread-count 16 --output-filename \"out.adder\"\n",
    "        \n",
    "        # ! cargo run --bin evaluate_feature_detection_transcode --release --features \"open-cv feature-logging\" -- \\\n",
    "        #         --crf {i} --delta-t-max 7650 --frame-count-max 1000 \\\n",
    "        #         --input-filename {file_path} \\\n",
    "        #         --scale 1.0 --detect-features --thread-count 1 --output-filename \"out.adder\"\n",
    "        ! cargo run --bin evaluate_feature_detection_transcode --release --features \"open-cv feature-logging compression\" -- \\\n",
    "                --crf {i} --delta-t-max 7650 --frame-count-max 480 \\\n",
    "                --input-filename {file_path} \\\n",
    "                --scale 1.0 --detect-features --compressed --thread-count 16 --output-filename \"out.adder\"\n",
    "    # --color-input\n"
   ]
  }
 ],
 "metadata": {
  "kernelspec": {
   "display_name": "Python 3",
   "language": "python",
   "name": "python3"
  },
  "language_info": {
   "codemirror_mode": {
    "name": "ipython",
    "version": 2
   },
   "file_extension": ".py",
   "mimetype": "text/x-python",
   "name": "python",
   "nbconvert_exporter": "python",
   "pygments_lexer": "ipython2",
   "version": "2.7.6"
  }
 },
 "nbformat": 4,
 "nbformat_minor": 5
}
