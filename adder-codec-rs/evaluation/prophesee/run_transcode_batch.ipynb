{
 "cells": [
  {
   "cell_type": "code",
   "execution_count": null,
   "id": "initial_id",
   "metadata": {
    "ExecuteTime": {
     "end_time": "2024-01-17T22:07:13.454937276Z",
     "start_time": "2024-01-17T22:07:13.410893691Z"
    }
   },
   "outputs": [],
   "source": [
    "import os\n",
    "\n",
    "input_directory_path = '/media/andrew/One Touch/HMNET2/experiments/detection/data/gen1/source/detection_dataset_duration_60s_ratio_1.0/test'\n",
    "output_directory_root = '/media/andrew/One Touch/HMNET_ADDER_data'\n",
    "\n",
    "\n",
    "\n",
    "\n",
    "# List all files in the directory\n",
    "file_list = os.listdir(input_directory_path)\n",
    "# Filter to just those ending int .dat\n",
    "file_list = [filename for filename in file_list if filename.endswith('.dat')]\n",
    "\n",
    "print(file_list)\n"
   ]
  },
  {
   "cell_type": "code",
   "execution_count": null,
   "id": "3222eed990813f99",
   "metadata": {
    "ExecuteTime": {
     "end_time": "2024-01-17T23:56:56.807127774Z",
     "start_time": "2024-01-17T23:33:36.874263688Z"
    }
   },
   "outputs": [],
   "source": [
    "%env RUSTFLAGS=-Awarnings\n",
    "\n",
    "for i in [1,2,3,6,9]:\n",
    "    output_directory_path = os.path.join(output_directory_root, f'gen{i}')\n",
    "    os.makedirs(output_directory_path, exist_ok=True)\n",
    "    \n",
    "    already_done_files = os.listdir(output_directory_path)\n",
    "    print(already_done_files)\n",
    "    \n",
    "    for filename in file_list:\n",
    "        \n",
    "        # get filename without extension\n",
    "        filename_out = filename.split('.')[0]+'.adder'\n",
    "            \n",
    "        input_file_path = os.path.join(input_directory_path, filename)\n",
    "        output_file_path = os.path.join(output_directory_path, filename_out)\n",
    "        \n",
    "        if filename_out in already_done_files and os.path.getsize(output_file_path) > 100:\n",
    "            print(f'Skipping {filename}')\n",
    "            continue\n",
    "        \n",
    "        \n",
    "        print(f'Processing {filename}')\n",
    "        !cargo run --release --bin prophesee_to_adder -- --ref-time 1 --delta-t-max 2 --input \"$input_file_path\" --output \"$output_file_path\" --crf $i\n",
    "        print(f'Finished processing {input_file_path}')\n",
    "        #\n",
    "\n"
   ]
  },
  {
   "cell_type": "code",
   "execution_count": null,
   "id": "5b93ecf3587a53ce",
   "metadata": {},
   "outputs": [],
   "source": []
  }
 ],
 "metadata": {
  "kernelspec": {
   "display_name": "Python 3",
   "language": "python",
   "name": "python3"
  },
  "language_info": {
   "codemirror_mode": {
    "name": "ipython",
    "version": 2
   },
   "file_extension": ".py",
   "mimetype": "text/x-python",
   "name": "python",
   "nbconvert_exporter": "python",
   "pygments_lexer": "ipython2",
   "version": "2.7.6"
  }
 },
 "nbformat": 4,
 "nbformat_minor": 5
}
