{
 "cells": [
  {
   "cell_type": "code",
   "execution_count": null,
   "id": "initial_id",
   "metadata": {
    "ExecuteTime": {
     "end_time": "2024-03-05T14:19:42.721134401Z",
     "start_time": "2024-03-05T14:19:42.678399680Z"
    }
   },
   "outputs": [],
   "source": [
    "# get the median reduction in filesize between the source .dat and the output .dat (after transcoding to ADDER at lossy quality, then back to DVS)\n",
    "# this is a measure of the compression efficiency of the ADDER codec\n",
    "\n",
    "import os\n",
    "import numpy as np\n",
    "\n",
    "CRF = str(9)\n",
    "\n",
    "# get the list of all .dat files in the source directory\n",
    "source_dat_files = [f for f in os.listdir(\"/media/andrew/One Touch/HMNet/data/gen1_subset/source/detection_dataset_duration_60s_ratio_1.0/test\") if f.endswith('.dat')]\n",
    "source_dat_files = sorted(source_dat_files)\n",
    "\n",
    "# get the list of all .dat files in the output directory\n",
    "output_dat_files = [f for f in os.listdir(\"/media/andrew/One Touch/HMNET2_crf\" + CRF + \"_feat/experiments/detection/data/gen1/source/detection_dataset_duration_60s_ratio_1.0/test\") if f.endswith('.dat')]\n",
    "output_dat_files = sorted(output_dat_files)\n",
    "\n",
    "# Get the file size reduction between the source and output\n",
    "reduction = []\n",
    "for i in range(len(source_dat_files)):\n",
    "    source_file = os.path.join(\"/media/andrew/One Touch/HMNet/data/gen1_subset/source/detection_dataset_duration_60s_ratio_1.0/test\", source_dat_files[i])\n",
    "    output_file = os.path.join(\"/media/andrew/One Touch/HMNET2_crf\" + CRF + \"_feat/experiments/detection/data/gen1/source/detection_dataset_duration_60s_ratio_1.0/test\", output_dat_files[i])\n",
    "    reduction.append((os.path.getsize(source_file) - os.path.getsize(output_file)) / os.path.getsize(source_file))\n",
    "    \n",
    "# get the median reduction\n",
    "median_reduction = np.median(reduction)\n",
    "print(median_reduction)"
   ]
  }
 ],
 "metadata": {
  "kernelspec": {
   "display_name": "Python 3",
   "language": "python",
   "name": "python3"
  },
  "language_info": {
   "codemirror_mode": {
    "name": "ipython",
    "version": 2
   },
   "file_extension": ".py",
   "mimetype": "text/x-python",
   "name": "python",
   "nbconvert_exporter": "python",
   "pygments_lexer": "ipython2",
   "version": "2.7.6"
  }
 },
 "nbformat": 4,
 "nbformat_minor": 5
}
