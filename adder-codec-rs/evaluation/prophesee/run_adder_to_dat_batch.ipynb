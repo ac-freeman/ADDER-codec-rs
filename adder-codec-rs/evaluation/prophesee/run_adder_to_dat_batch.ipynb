{
 "cells": [
  {
   "cell_type": "code",
   "execution_count": null,
   "id": "initial_id",
   "metadata": {
    "ExecuteTime": {
     "end_time": "2024-02-17T00:25:57.745525284Z",
     "start_time": "2024-02-16T21:25:19.873906096Z"
    }
   },
   "outputs": [],
   "source": [
    "import os\n",
    "\n",
    "data_root = '/media/andrew/One Touch/HMNET_ADDER_data'\n",
    "\n",
    "# for i in [0,1,2,3,6,9]:\n",
    "for i in [0]:\n",
    "    # look in ./gen${i} and get the file list\n",
    "    input_directory_path = os.path.join(data_root, f'gen{i}')\n",
    "    output_directory_path = os.path.join(data_root, f'gen{i}_dat')\n",
    "    os.makedirs(output_directory_path, exist_ok=True)\n",
    "    \n",
    "    file_list = os.listdir(input_directory_path)\n",
    "    file_list = [filename for filename in file_list if filename.endswith('.adder')]\n",
    "    \n",
    "    already_done_files = os.listdir(output_directory_path)\n",
    "    print(already_done_files)\n",
    "    \n",
    "    for filename in file_list:\n",
    "        \n",
    "        # get filename without extension\n",
    "        filename_out = filename.split('.')[0]+'.dat'\n",
    "            \n",
    "        input_file_path = os.path.join(input_directory_path, filename)\n",
    "        output_file_path = os.path.join(output_directory_path, filename_out)\n",
    "        \n",
    "        if filename_out in already_done_files and os.path.getsize(output_file_path) > 100:\n",
    "            print(f'Skipping {filename}')\n",
    "            continue\n",
    "        \n",
    "        print(f'Processing {filename}')\n",
    "        # adder-to-dvs --input \"/home/andrew/Downloads/spinner.adder\" --output-events \"/home/andrew/Downloads/adder.dat\" --output-video \"/home/andrew/Downloads/adder_dvs.mp4\" --show-display --fps 1000.0 --playback-slowdown 0.01\n",
    "        !cd /home/andrew/Code/adder-codec-rs/adder-to-dvs && cargo run --release -- --input \"$input_file_path\" --output-events \"$output_file_path\" --reorder\n",
    "        print(f'Finished processing {input_file_path}')\n",
    "    \n",
    "    print(\"CRF\", i, \"done\")"
   ]
  }
 ],
 "metadata": {
  "kernelspec": {
   "display_name": "Python 3",
   "language": "python",
   "name": "python3"
  },
  "language_info": {
   "codemirror_mode": {
    "name": "ipython",
    "version": 2
   },
   "file_extension": ".py",
   "mimetype": "text/x-python",
   "name": "python",
   "nbconvert_exporter": "python",
   "pygments_lexer": "ipython2",
   "version": "2.7.6"
  }
 },
 "nbformat": 4,
 "nbformat_minor": 5
}
