{
 "cells": [
  {
   "cell_type": "code",
   "execution_count": null,
   "id": "initial_id",
   "metadata": {
    "ExecuteTime": {
     "end_time": "2024-03-02T03:24:23.213479152Z",
     "start_time": "2024-03-02T03:24:22.678152537Z"
    }
   },
   "outputs": [],
   "source": [
    "# Convert all the ground truth hdf5 files to dat files, so that we can transcode them to adder\n",
    "\n",
    "import os\n",
    "\n",
    "hdf5_dir = \"/home/andrew/hmnet/HMNET2/experiments/segmentation/data/dsec/test_evt\"\n",
    "hdf5_files = [os.path.join(hdf5_dir, f) for f in os.listdir(hdf5_dir) if f.endswith('.hdf5')]\n",
    "hdf5_files.sort()\n",
    "\n",
    "for f in hdf5_files:\n",
    "    print(f)\n",
    "    !metavision_file_to_dat -i $f"
   ]
  },
  {
   "cell_type": "code",
   "execution_count": null,
   "id": "c1649777a5fcb021",
   "metadata": {
    "ExecuteTime": {
     "end_time": "2024-03-04T16:19:08.388332057Z",
     "start_time": "2024-03-04T16:19:08.342227836Z"
    }
   },
   "outputs": [],
   "source": [
    "#.dat to .npy\n",
    "dat_dir = \"/media/andrew/One Touch/HMNET2_seg_test_gt_data\"\n",
    "dat_files = [os.path.join(hdf5_dir, f) for f in os.listdir(hdf5_dir) if f.endswith('.dat')]\n",
    "dat_files.sort()\n",
    "print(dat_files)\n",
    "for fpath in dat_files:\n",
    "    data = load_td_data(fpath)\n",
    "    fpath_out = dpath_out + '/' + fpath.split('/')[-1].replace('.dat', '.npy')\n",
    "\n",
    "    t = data['t'].astype(int)\n",
    "    diff = t[1:] - t[:-1]\n",
    "    if diff.min() < 0:\n",
    "        print(f\"Time stamps are not sorted ({diff.min()}, {fpath.split('/')[-1]})\")\n",
    "        indices = np.argsort(t)\n",
    "        data = data[indices]\n",
    "    np.save(fpath_out, data)\n",
    "    print(fpath_out)"
   ]
  }
 ],
 "metadata": {
  "kernelspec": {
   "display_name": "Python 3",
   "language": "python",
   "name": "python3"
  },
  "language_info": {
   "codemirror_mode": {
    "name": "ipython",
    "version": 2
   },
   "file_extension": ".py",
   "mimetype": "text/x-python",
   "name": "python",
   "nbconvert_exporter": "python",
   "pygments_lexer": "ipython2",
   "version": "2.7.6"
  }
 },
 "nbformat": 4,
 "nbformat_minor": 5
}
