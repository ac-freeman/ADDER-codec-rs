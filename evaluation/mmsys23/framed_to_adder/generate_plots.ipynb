{
 "cells": [
  {
   "cell_type": "code",
   "execution_count": 44,
   "outputs": [],
   "source": [
    "import re\n",
    "\n",
    "def get_int_from_line(line):\n",
    "    return int(re.sub(\"[^0-9]\", \"\",line))\n",
    "\n",
    "# gets the ADDER events per pixel channel, and the execution time to transcode\n",
    "def get_run_info(filepath):\n",
    "    runtime, events_ppc, dr = None, None, None\n",
    "    with open(filepath) as f:\n",
    "        read_next = False\n",
    "        for line in f:\n",
    "            if 'ms elapsed' in line:\n",
    "                runtime = get_int_from_line(line)\n",
    "            elif 'Events per pixel channel' in line:\n",
    "                events_ppc = get_int_from_line(line)\n",
    "            elif 'Realized range:' in line:\n",
    "                read_next = True\n",
    "            elif read_next:\n",
    "                dr = get_int_from_line(line)\n",
    "                read_next = False\n",
    "    return runtime, events_ppc, dr"
   ],
   "metadata": {
    "collapsed": false
   }
  },
  {
   "cell_type": "code",
   "execution_count": 45,
   "outputs": [
    {
     "name": "stdout",
     "output_type": "stream",
     "text": [
      "Unexpected exception formatting exception. Falling back to standard exception\n"
     ]
    },
    {
     "name": "stderr",
     "output_type": "stream",
     "text": [
      "Traceback (most recent call last):\n",
      "  File \"/usr/local/lib/python3.8/dist-packages/IPython/core/interactiveshell.py\", line 3378, in run_code\n",
      "    exec(code_obj, self.user_global_ns, self.user_ns)\n",
      "  File \"/tmp/ipykernel_57946/1021011066.py\", line 2, in <module>\n",
      "    import pandas as pd\n",
      "ModuleNotFoundError: No module named 'pandas'\n",
      "\n",
      "During handling of the above exception, another exception occurred:\n",
      "\n",
      "Traceback (most recent call last):\n",
      "  File \"/usr/local/lib/python3.8/dist-packages/IPython/core/interactiveshell.py\", line 1997, in showtraceback\n",
      "    stb = self.InteractiveTB.structured_traceback(\n",
      "  File \"/usr/local/lib/python3.8/dist-packages/IPython/core/ultratb.py\", line 1112, in structured_traceback\n",
      "    return FormattedTB.structured_traceback(\n",
      "  File \"/usr/local/lib/python3.8/dist-packages/IPython/core/ultratb.py\", line 1006, in structured_traceback\n",
      "    return VerboseTB.structured_traceback(\n",
      "  File \"/usr/local/lib/python3.8/dist-packages/IPython/core/ultratb.py\", line 859, in structured_traceback\n",
      "    formatted_exception = self.format_exception_as_a_whole(etype, evalue, etb, number_of_lines_of_context,\n",
      "  File \"/usr/local/lib/python3.8/dist-packages/IPython/core/ultratb.py\", line 793, in format_exception_as_a_whole\n",
      "    self.get_records(etb, number_of_lines_of_context, tb_offset) if etb else []\n",
      "  File \"/usr/local/lib/python3.8/dist-packages/IPython/core/ultratb.py\", line 839, in get_records\n",
      "    style = stack_data.style_with_executing_node(style, \"bg:ansiyellow\")\n",
      "  File \"/usr/local/lib/python3.8/dist-packages/stack_data/core.py\", line 455, in style_with_executing_node\n",
      "    class NewStyle(style):\n",
      "  File \"/usr/lib/python3/dist-packages/pygments/style.py\", line 91, in __new__\n",
      "    ndef[4] = colorformat(styledef[3:])\n",
      "  File \"/usr/lib/python3/dist-packages/pygments/style.py\", line 58, in colorformat\n",
      "    assert False, \"wrong color format %r\" % text\n",
      "AssertionError: wrong color format 'ansiyellow'\n"
     ]
    }
   ],
   "source": [
    "import os\n",
    "import pandas as pd\n",
    "rootdir = '/media/andrew/Scratch1/ugc-dataset/evaluations'\n",
    "dict = {'threshold',\n",
    "        'execution_time',\n",
    "        'events_ppc',\n",
    "        'dynamic_range'\n",
    "       }\n",
    "\n",
    "# df = pd.DataFrame(dict)\n",
    "\n",
    "for subdir, dirs, files in os.walk(rootdir):\n",
    "    print(subdir)\n",
    "    for file in files:\n",
    "        filepath = os.path.join(subdir, file)\n",
    "        print(filepath)\n",
    "        thresh = file.split(\".\")[0]\n",
    "        if file.endswith(\".txt\"):\n",
    "            runtime, events_ppc, dr = get_run_info(filepath)\n",
    "        elif file.endswith(\".json\"):\n",
    "            print()\n"
   ],
   "metadata": {
    "collapsed": false
   }
  },
  {
   "cell_type": "code",
   "execution_count": null,
   "outputs": [],
   "source": [],
   "metadata": {
    "collapsed": false
   }
  }
 ],
 "metadata": {
  "kernelspec": {
   "display_name": "Python 3",
   "language": "python",
   "name": "python3"
  },
  "language_info": {
   "codemirror_mode": {
    "name": "ipython",
    "version": 2
   },
   "file_extension": ".py",
   "mimetype": "text/x-python",
   "name": "python",
   "nbconvert_exporter": "python",
   "pygments_lexer": "ipython2",
   "version": "2.7.6"
  }
 },
 "nbformat": 4,
 "nbformat_minor": 0
}
